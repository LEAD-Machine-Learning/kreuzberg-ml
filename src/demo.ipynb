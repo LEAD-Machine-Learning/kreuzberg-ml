{
 "cells": [
  {
   "cell_type": "code",
   "execution_count": 9,
   "id": "a596da39-36f6-437e-9bfa-386d898a0fd8",
   "metadata": {},
   "outputs": [],
   "source": [
    "from kreuzbergml.data_quality.data_frame_statistics import DataFrameStatistics"
   ]
  },
  {
   "cell_type": "code",
   "execution_count": 10,
   "id": "a9007d60-5f7d-4c32-ae16-8810b8dba46c",
   "metadata": {},
   "outputs": [],
   "source": [
    "import pandas as pd"
   ]
  },
  {
   "cell_type": "code",
   "execution_count": 11,
   "id": "283f6757-c646-41f8-b161-b9febdcd8fa2",
   "metadata": {},
   "outputs": [],
   "source": [
    "\n",
    "melb_1000_file_path = 'tests/sample_data/melb_1000.csv'\n",
    "df_melb = pd.read_csv(melb_1000_file_path)\n"
   ]
  },
  {
   "cell_type": "code",
   "execution_count": 12,
   "id": "976fa913-1aff-467f-8b26-8f920ad2d567",
   "metadata": {},
   "outputs": [
    {
     "name": "stdout",
     "output_type": "stream",
     "text": [
      "\n",
      "\n",
      "DATA QUALITY REPORT\n",
      "\n",
      "No duplicate columns were found.\n",
      "The following columns have NaN values:\n",
      "Column 'BuildingArea' has 437 NaN values which comprise 0.44 of all rows\n",
      "Column 'YearBuilt' has 373 NaN values which comprise 0.37 of all rows\n"
     ]
    }
   ],
   "source": [
    "dq_melb = DataFrameStatistics(df_melb)\n",
    "dq_melb.print_report()"
   ]
  },
  {
   "cell_type": "code",
   "execution_count": 13,
   "id": "1b2c0019-a570-4ed8-a95e-2d600c34f452",
   "metadata": {},
   "outputs": [],
   "source": [
    "census_1000_file_path = 'tests/sample_data/census_1000.csv'\n",
    "df_census = pd.read_csv(census_1000_file_path)\n"
   ]
  },
  {
   "cell_type": "code",
   "execution_count": 14,
   "id": "ebde32f1-109b-49c6-af17-56369084e909",
   "metadata": {},
   "outputs": [
    {
     "name": "stdout",
     "output_type": "stream",
     "text": [
      "\n",
      "\n",
      "DATA QUALITY REPORT\n",
      "\n",
      "Found 1 columns with exactly the same feature values as other columns.\n",
      "Columns ['workclass2'] is/are duplicate(s) of Column 'workclass'\n",
      "No NaN values were found\n"
     ]
    }
   ],
   "source": [
    "dq_census = DataFrameStatistics(df_census)\n",
    "dq_census.print_report()"
   ]
  },
  {
   "cell_type": "code",
   "execution_count": 15,
   "id": "d7b7a382-f7f4-407f-b5e5-0965d5fd943a",
   "metadata": {},
   "outputs": [],
   "source": [
    "timeseries_path = 'tests/sample_data/Electric_Production_timeseries.csv'\n",
    "df_timeseries = pd.read_csv(timeseries_path, parse_dates=[\"DATE\"], index_col=0)"
   ]
  },
  {
   "cell_type": "code",
   "execution_count": 16,
   "id": "066327b1-7863-4eb4-8110-b146871d6aed",
   "metadata": {},
   "outputs": [
    {
     "name": "stdout",
     "output_type": "stream",
     "text": [
      "\n",
      "\n",
      "DATA QUALITY REPORT\n",
      "\n",
      "Found 11658 missing dates in the timeseries index\n",
      "Found 1 duplicate rows : \n",
      "               Value\n",
      "DATE               \n",
      "1985-01-01  72.5052\n"
     ]
    }
   ],
   "source": [
    "dq_timeseries = DataFrameStatistics(df_timeseries)\n",
    "dq_timeseries.print_report()"
   ]
  },
  {
   "cell_type": "code",
   "execution_count": null,
   "id": "62e7811b-00d1-4fc2-9980-0ac67f3e42b8",
   "metadata": {},
   "outputs": [],
   "source": []
  }
 ],
 "metadata": {
  "kernelspec": {
   "display_name": "Python 3",
   "language": "python",
   "name": "python3"
  },
  "language_info": {
   "codemirror_mode": {
    "name": "ipython",
    "version": 3
   },
   "file_extension": ".py",
   "mimetype": "text/x-python",
   "name": "python",
   "nbconvert_exporter": "python",
   "pygments_lexer": "ipython3",
   "version": "3.8.8"
  }
 },
 "nbformat": 4,
 "nbformat_minor": 5
}
